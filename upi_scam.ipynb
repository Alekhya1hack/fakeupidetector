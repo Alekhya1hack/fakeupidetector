{
 "cells": [
  {
   "cell_type": "code",
   "execution_count": null,
   "id": "cc04deaa-5fe5-4256-a345-9658391e6c17",
   "metadata": {},
   "outputs": [
    {
     "name": "stdout",
     "output_type": "stream",
     "text": [
      "Collecting python-Levenshtein\n",
      "  Downloading python_levenshtein-0.27.1-py3-none-any.whl.metadata (3.7 kB)\n",
      "Collecting Levenshtein==0.27.1 (from python-Levenshtein)\n",
      "  Downloading levenshtein-0.27.1-cp312-cp312-win_amd64.whl.metadata (3.6 kB)\n",
      "Collecting rapidfuzz<4.0.0,>=3.9.0 (from Levenshtein==0.27.1->python-Levenshtein)\n",
      "  Downloading rapidfuzz-3.14.0-cp312-cp312-win_amd64.whl.metadata (12 kB)\n",
      "Downloading python_levenshtein-0.27.1-py3-none-any.whl (9.4 kB)\n",
      "Downloading levenshtein-0.27.1-cp312-cp312-win_amd64.whl (100 kB)\n",
      "Downloading rapidfuzz-3.14.0-cp312-cp312-win_amd64.whl (1.7 MB)\n",
      "   ---------------------------------------- 0.0/1.7 MB ? eta -:--:--\n",
      "   ------------------------- -------------- 1.0/1.7 MB 5.6 MB/s eta 0:00:01\n",
      "   ---------------------------------------- 1.7/1.7 MB 4.9 MB/s  0:00:00\n",
      "Installing collected packages: rapidfuzz, Levenshtein, python-Levenshtein\n",
      "\n",
      "   ---------------------------------------- 0/3 [rapidfuzz]\n",
      "   ---------------------------------------- 0/3 [rapidfuzz]\n",
      "   ---------------------------------------- 0/3 [rapidfuzz]\n",
      "   ---------------------------------------- 0/3 [rapidfuzz]\n",
      "   ---------------------------------------- 0/3 [rapidfuzz]\n",
      "   ---------------------------------------- 0/3 [rapidfuzz]\n",
      "   ---------------------------------------- 0/3 [rapidfuzz]\n",
      "   ---------------------------------------- 0/3 [rapidfuzz]\n",
      "   ---------------------------------------- 0/3 [rapidfuzz]\n",
      "   ---------------------------------------- 0/3 [rapidfuzz]\n",
      "   ------------- -------------------------- 1/3 [Levenshtein]\n",
      "   ---------------------------------------- 3/3 [python-Levenshtein]\n",
      "\n",
      "Successfully installed Levenshtein-0.27.1 python-Levenshtein-0.27.1 rapidfuzz-3.14.0\n",
      "🔐 UPI Scam Detector\n"
     ]
    },
    {
     "name": "stdin",
     "output_type": "stream",
     "text": [
      "\n",
      "Enter UPI ID (or 'exit' to quit):  winmoney@ok\n"
     ]
    },
    {
     "name": "stdout",
     "output_type": "stream",
     "text": [
      "⚠️ Suspicious keyword 'winmoney' found in winmoney@ok\n"
     ]
    },
    {
     "name": "stdin",
     "output_type": "stream",
     "text": [
      "\n",
      "Enter UPI ID (or 'exit' to quit):  alekhya23@ok\n"
     ]
    },
    {
     "name": "stdout",
     "output_type": "stream",
     "text": [
      "✅ Safe UPI ID: alekhya23@ok\n"
     ]
    }
   ],
   "source": [
    "!pip install python-Levenshtein\n",
    "def load_blacklist(filepath=\"data/blacklist.txt\"):\n",
    "    try:\n",
    "        with open(filepath, \"r\") as f:\n",
    "            return [line.strip().lower() for line in f if line.strip()]\n",
    "    except FileNotFoundError:\n",
    "        return []\n",
    "\n",
    "import re\n",
    "import Levenshtein\n",
    "\n",
    "# Suspicious keywords\n",
    "KEYWORDS = [\"pmcare\", \"pmcares\", \"lottery\", \"winmoney\", \"prize\", \"donation\"]\n",
    "\n",
    "# Load blacklist\n",
    "BLACKLIST = load_blacklist()\n",
    "\n",
    "def is_valid_format(upi_id: str) -> bool:\n",
    "    \"\"\"Check if UPI matches standard format: name@bank\"\"\"\n",
    "    return bool(re.match(r\"^[a-zA-Z0-9.\\-_]+@[a-zA-Z]+$\", upi_id))\n",
    "\n",
    "def check_similarity(upi_id: str, threshold=0.85):\n",
    "    \"\"\"Check if UPI ID is very similar to a known blacklist entry\"\"\"\n",
    "    for black in BLACKLIST:\n",
    "        ratio = Levenshtein.ratio(upi_id, black)\n",
    "        if ratio >= threshold:\n",
    "            return black, ratio\n",
    "    return None, 0\n",
    "\n",
    "def check_upi_id(upi_id: str) -> str:\n",
    "    upi_id = upi_id.lower().strip()\n",
    "\n",
    "    # 1. Format check\n",
    "    if not is_valid_format(upi_id):\n",
    "        return f\"❌ Invalid UPI format: {upi_id}\"\n",
    "\n",
    "    # 2. Direct blacklist check\n",
    "    if upi_id in BLACKLIST:\n",
    "        return f\"⚠️ Blacklisted UPI ID: {upi_id}\"\n",
    "\n",
    "    # 3. Keyword-based detection\n",
    "    for kw in KEYWORDS:\n",
    "        if kw in upi_id:\n",
    "            return f\"⚠️ Suspicious keyword '{kw}' found in {upi_id}\"\n",
    "\n",
    "    # 4. Similarity check\n",
    "    similar, score = check_similarity(upi_id)\n",
    "    if similar:\n",
    "        return f\"⚠️ UPI ID '{upi_id}' looks similar to blacklisted '{similar}' (score: {score:.2f})\"\n",
    "\n",
    "    return f\"✅ Safe UPI ID: {upi_id}\"\n",
    "\n",
    "    from modules.upi_checker import check_upi_id\n",
    "\n",
    "def main():\n",
    "    print(\"🔐 UPI Scam Detector\")\n",
    "    while True:\n",
    "        upi = input(\"\\nEnter UPI ID (or 'exit' to quit): \")\n",
    "        if upi.lower() == \"exit\":\n",
    "            break\n",
    "        print(check_upi_id(upi))\n",
    "\n",
    "if __name__ == \"__main__\":\n",
    "    main()\n",
    "\n",
    "\n"
   ]
  },
  {
   "cell_type": "code",
   "execution_count": null,
   "id": "8988dd2b-1bde-41e6-a460-e84d0c8c4e02",
   "metadata": {},
   "outputs": [],
   "source": []
  },
  {
   "cell_type": "code",
   "execution_count": null,
   "id": "c8ddce09-4108-4521-8b74-27c49d48f3a6",
   "metadata": {},
   "outputs": [],
   "source": []
  }
 ],
 "metadata": {
  "kernelspec": {
   "display_name": "Python 3 (ipykernel)",
   "language": "python",
   "name": "python3"
  },
  "language_info": {
   "codemirror_mode": {
    "name": "ipython",
    "version": 3
   },
   "file_extension": ".py",
   "mimetype": "text/x-python",
   "name": "python",
   "nbconvert_exporter": "python",
   "pygments_lexer": "ipython3",
   "version": "3.12.4"
  }
 },
 "nbformat": 4,
 "nbformat_minor": 5
}
